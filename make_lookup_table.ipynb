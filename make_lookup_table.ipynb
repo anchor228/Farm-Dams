{
 "cells": [
  {
   "cell_type": "markdown",
   "metadata": {},
   "source": [
    "## Make a lookup table by merging gauge ID with the centroid lat and lon\n",
    "It's better to use the centroid point of the reservoir than the location of the gauge because the satellite images will be more accurate this way."
   ]
  },
  {
   "cell_type": "code",
   "execution_count": 1,
   "metadata": {},
   "outputs": [],
   "source": [
    "import pandas as pd\n",
    "import geopandas as gpd"
   ]
  },
  {
   "cell_type": "markdown",
   "metadata": {},
   "source": [
    "We could make this with a spatial join in ArcGIS, by joining the points_with_ID shapefile and the polys shapefile. But I'm not at work rightnow and don't have access to ArcGIS so I'm just gonna use the shapefile I made before which joined up points with polygons but didn't have the gauge ID. It does have the station names though as they were scrapped from BoM so we can use that as the index on which to add the gauge ID numbers that I now have. "
   ]
  },
  {
   "cell_type": "code",
   "execution_count": 2,
   "metadata": {},
   "outputs": [
    {
     "data": {
      "text/html": [
       "<div>\n",
       "<style scoped>\n",
       "    .dataframe tbody tr th:only-of-type {\n",
       "        vertical-align: middle;\n",
       "    }\n",
       "\n",
       "    .dataframe tbody tr th {\n",
       "        vertical-align: top;\n",
       "    }\n",
       "\n",
       "    .dataframe thead th {\n",
       "        text-align: right;\n",
       "    }\n",
       "</style>\n",
       "<table border=\"1\" class=\"dataframe\">\n",
       "  <thead>\n",
       "    <tr style=\"text-align: right;\">\n",
       "      <th></th>\n",
       "      <th>lat</th>\n",
       "      <th>lon</th>\n",
       "    </tr>\n",
       "    <tr>\n",
       "      <th>gauge_ID</th>\n",
       "      <th></th>\n",
       "      <th></th>\n",
       "    </tr>\n",
       "  </thead>\n",
       "  <tbody>\n",
       "    <tr>\n",
       "      <th>PI_357693.1</th>\n",
       "      <td>-33.963056</td>\n",
       "      <td>115.125976</td>\n",
       "    </tr>\n",
       "  </tbody>\n",
       "</table>\n",
       "</div>"
      ],
      "text/plain": [
       "                   lat         lon\n",
       "gauge_ID                          \n",
       "PI_357693.1 -33.963056  115.125976"
      ]
     },
     "execution_count": 2,
     "metadata": {},
     "output_type": "execute_result"
    }
   ],
   "source": [
    "ID_gdf = gpd.read_file('points_with_ID/points_with_ID.shp')\n",
    "ID_df = ID_gdf.drop(columns=['geometry', 'lat', 'lon'])\n",
    "ID_df = ID_df.set_index(['staion_nam']) #index for both files will be station name\n",
    "\n",
    "join = gpd.read_file('join_matched/join_matched.shp')\n",
    "join = join.set_index(['staion_nam']) #index for both files will be station name\n",
    "\n",
    "merged = ID_df.merge(join, left_index=True, right_index=True) #match based on the index column\n",
    "merged = merged.drop(columns=['lat_1', 'lon_1', 'Distance'])\n",
    "\n",
    "gauge_lookup = merged.set_index(['gauge_ID'])\n",
    "gauge_lookup = gauge_lookup.drop(columns=['NAME', 'SHAPE_Area', 'Area_calc', 'geometry'])\n",
    "gauge_lookup_df = pd.DataFrame(gauge_lookup) #has to be pandas dataframe not geodataframe to save as csv\n",
    "\n",
    "gauge_lookup_df.head(1)"
   ]
  },
  {
   "cell_type": "code",
   "execution_count": 3,
   "metadata": {},
   "outputs": [],
   "source": [
    "#save as csv\n",
    "#output = 'gauge_lookup_table'\n",
    "#gauge_lookup_df.to_csv(output)"
   ]
  },
  {
   "cell_type": "markdown",
   "metadata": {},
   "source": [
    "## Test"
   ]
  },
  {
   "cell_type": "code",
   "execution_count": 4,
   "metadata": {},
   "outputs": [
    {
     "data": {
      "text/plain": [
       "-36.37440063146142"
      ]
     },
     "execution_count": 4,
     "metadata": {},
     "output_type": "execute_result"
    }
   ],
   "source": [
    "lookup = pd.read_csv('gauge_lookup_table')\n",
    "lookup = lookup.set_index(['gauge_ID'])\n",
    "lat_lookup = lookup.at['222540', 'lat'] #I chose the ID for Lake Jindabyne to see if it works\n",
    "lat_lookup"
   ]
  },
  {
   "cell_type": "markdown",
   "metadata": {},
   "source": [
    "## Append surface area for buffer calc\n",
    "To get a good image, you need to pick the right buffer for the satellite image. For big reservoirs, the buffer needs to be big and for small reservoirs it should be small. "
   ]
  },
  {
   "cell_type": "code",
   "execution_count": 5,
   "metadata": {},
   "outputs": [],
   "source": [
    "surface_area = gpd.read_file('points_polys_join/points_polys_join.shp')\n",
    "surface_area = surface_area.drop(columns=['FID_1', 'NAME', 'SHAPE_Area', \n",
    "                                          'lat', 'lon', 'lat_1', 'lon_1', \n",
    "                                          'FID_2', 'Distance', 'geometry'])\n",
    "gauge_ID_and_name = merged.drop(columns=['NAME', 'SHAPE_Area', 'Area_calc', 'lat', \n",
    "                                         'lon', 'geometry'])\n",
    "\n",
    "surface_area = surface_area.set_index(['staion_nam'])\n",
    "surface_area = pd.DataFrame(surface_area)\n",
    "\n",
    "merged_ID_name_area = gauge_ID_and_name.merge(surface_area, left_index=True, right_index=True)\n",
    "merged_ID_area = merged_ID_name_area.set_index(['gauge_ID'])"
   ]
  },
  {
   "cell_type": "markdown",
   "metadata": {},
   "source": [
    "I'm gonna base the buffer calculation factor on Tantangara. I think a buffer of 7000 makes a good image of Tantangara so let's use 7000. "
   ]
  },
  {
   "cell_type": "code",
   "execution_count": 6,
   "metadata": {},
   "outputs": [
    {
     "name": "stdout",
     "output_type": "stream",
     "text": [
      "T max: 19936856.0\n",
      "buffer factor: 2848.1222857142857\n"
     ]
    }
   ],
   "source": [
    "Tantangara = '410543'\n",
    "T_area = merged_ID_area.at[Tantangara, 'Area_calc']\n",
    "max_area = T_area.max()\n",
    "buffer_factor = max_area/7000\n",
    "print('T max:', max_area)\n",
    "print('buffer factor:', buffer_factor)"
   ]
  },
  {
   "cell_type": "code",
   "execution_count": 7,
   "metadata": {},
   "outputs": [
    {
     "data": {
      "text/plain": [
       "7000.0"
      ]
     },
     "execution_count": 7,
     "metadata": {},
     "output_type": "execute_result"
    }
   ],
   "source": [
    "max_area/buffer_factor"
   ]
  },
  {
   "cell_type": "code",
   "execution_count": 8,
   "metadata": {},
   "outputs": [
    {
     "data": {
      "text/html": [
       "<div>\n",
       "<style scoped>\n",
       "    .dataframe tbody tr th:only-of-type {\n",
       "        vertical-align: middle;\n",
       "    }\n",
       "\n",
       "    .dataframe tbody tr th {\n",
       "        vertical-align: top;\n",
       "    }\n",
       "\n",
       "    .dataframe thead th {\n",
       "        text-align: right;\n",
       "    }\n",
       "</style>\n",
       "<table border=\"1\" class=\"dataframe\">\n",
       "  <thead>\n",
       "    <tr style=\"text-align: right;\">\n",
       "      <th></th>\n",
       "      <th>gauge_ID</th>\n",
       "      <th>Area_calc</th>\n",
       "    </tr>\n",
       "  </thead>\n",
       "  <tbody>\n",
       "    <tr>\n",
       "      <th>0</th>\n",
       "      <td>PI_357693.1</td>\n",
       "      <td>294155.753</td>\n",
       "    </tr>\n",
       "  </tbody>\n",
       "</table>\n",
       "</div>"
      ],
      "text/plain": [
       "      gauge_ID   Area_calc\n",
       "0  PI_357693.1  294155.753"
      ]
     },
     "execution_count": 8,
     "metadata": {},
     "output_type": "execute_result"
    }
   ],
   "source": [
    "ID_area = pd.read_csv('ID_area_lookup')\n",
    "ID_area.head(1)"
   ]
  },
  {
   "cell_type": "code",
   "execution_count": 9,
   "metadata": {},
   "outputs": [
    {
     "data": {
      "text/html": [
       "<div>\n",
       "<style scoped>\n",
       "    .dataframe tbody tr th:only-of-type {\n",
       "        vertical-align: middle;\n",
       "    }\n",
       "\n",
       "    .dataframe tbody tr th {\n",
       "        vertical-align: top;\n",
       "    }\n",
       "\n",
       "    .dataframe thead th {\n",
       "        text-align: right;\n",
       "    }\n",
       "</style>\n",
       "<table border=\"1\" class=\"dataframe\">\n",
       "  <thead>\n",
       "    <tr style=\"text-align: right;\">\n",
       "      <th></th>\n",
       "      <th>gauge_ID</th>\n",
       "      <th>Area_calc</th>\n",
       "    </tr>\n",
       "  </thead>\n",
       "  <tbody>\n",
       "    <tr>\n",
       "      <th>0</th>\n",
       "      <td>PI_357693.1</td>\n",
       "      <td>2.941558e+05</td>\n",
       "    </tr>\n",
       "    <tr>\n",
       "      <th>1</th>\n",
       "      <td>A4261155</td>\n",
       "      <td>1.864490e+08</td>\n",
       "    </tr>\n",
       "    <tr>\n",
       "      <th>2</th>\n",
       "      <td>A4261156</td>\n",
       "      <td>6.230347e+08</td>\n",
       "    </tr>\n",
       "    <tr>\n",
       "      <th>3</th>\n",
       "      <td>418.1</td>\n",
       "      <td>6.417353e+07</td>\n",
       "    </tr>\n",
       "    <tr>\n",
       "      <th>4</th>\n",
       "      <td>155.1</td>\n",
       "      <td>1.166882e+07</td>\n",
       "    </tr>\n",
       "    <tr>\n",
       "      <th>...</th>\n",
       "      <td>...</td>\n",
       "      <td>...</td>\n",
       "    </tr>\n",
       "    <tr>\n",
       "      <th>724</th>\n",
       "      <td>sp-o10814</td>\n",
       "      <td>5.441568e+05</td>\n",
       "    </tr>\n",
       "    <tr>\n",
       "      <th>725</th>\n",
       "      <td>sp-o10814</td>\n",
       "      <td>2.128985e+05</td>\n",
       "    </tr>\n",
       "    <tr>\n",
       "      <th>726</th>\n",
       "      <td>sp-o10814</td>\n",
       "      <td>3.669286e+07</td>\n",
       "    </tr>\n",
       "    <tr>\n",
       "      <th>727</th>\n",
       "      <td>410791</td>\n",
       "      <td>2.610250e+05</td>\n",
       "    </tr>\n",
       "    <tr>\n",
       "      <th>728</th>\n",
       "      <td>410791</td>\n",
       "      <td>1.400569e+05</td>\n",
       "    </tr>\n",
       "  </tbody>\n",
       "</table>\n",
       "<p>729 rows × 2 columns</p>\n",
       "</div>"
      ],
      "text/plain": [
       "        gauge_ID     Area_calc\n",
       "0    PI_357693.1  2.941558e+05\n",
       "1       A4261155  1.864490e+08\n",
       "2       A4261156  6.230347e+08\n",
       "3          418.1  6.417353e+07\n",
       "4          155.1  1.166882e+07\n",
       "..           ...           ...\n",
       "724    sp-o10814  5.441568e+05\n",
       "725    sp-o10814  2.128985e+05\n",
       "726    sp-o10814  3.669286e+07\n",
       "727       410791  2.610250e+05\n",
       "728       410791  1.400569e+05\n",
       "\n",
       "[729 rows x 2 columns]"
      ]
     },
     "execution_count": 9,
     "metadata": {},
     "output_type": "execute_result"
    }
   ],
   "source": [
    "ID_area"
   ]
  },
  {
   "cell_type": "code",
   "execution_count": 12,
   "metadata": {},
   "outputs": [
    {
     "data": {
      "text/html": [
       "<div>\n",
       "<style scoped>\n",
       "    .dataframe tbody tr th:only-of-type {\n",
       "        vertical-align: middle;\n",
       "    }\n",
       "\n",
       "    .dataframe tbody tr th {\n",
       "        vertical-align: top;\n",
       "    }\n",
       "\n",
       "    .dataframe thead th {\n",
       "        text-align: right;\n",
       "    }\n",
       "</style>\n",
       "<table border=\"1\" class=\"dataframe\">\n",
       "  <thead>\n",
       "    <tr style=\"text-align: right;\">\n",
       "      <th></th>\n",
       "      <th>Area_calc</th>\n",
       "      <th>buffer</th>\n",
       "    </tr>\n",
       "    <tr>\n",
       "      <th>gauge_ID</th>\n",
       "      <th></th>\n",
       "      <th></th>\n",
       "    </tr>\n",
       "  </thead>\n",
       "  <tbody>\n",
       "    <tr>\n",
       "      <th>PI_357693.1</th>\n",
       "      <td>2.941558e+05</td>\n",
       "      <td>103.280591</td>\n",
       "    </tr>\n",
       "    <tr>\n",
       "      <th>A4261155</th>\n",
       "      <td>1.864490e+08</td>\n",
       "      <td>65463.833114</td>\n",
       "    </tr>\n",
       "    <tr>\n",
       "      <th>A4261156</th>\n",
       "      <td>6.230347e+08</td>\n",
       "      <td>218752.784993</td>\n",
       "    </tr>\n",
       "    <tr>\n",
       "      <th>418.1</th>\n",
       "      <td>6.417353e+07</td>\n",
       "      <td>22531.874324</td>\n",
       "    </tr>\n",
       "    <tr>\n",
       "      <th>155.1</th>\n",
       "      <td>1.166882e+07</td>\n",
       "      <td>4097.021346</td>\n",
       "    </tr>\n",
       "    <tr>\n",
       "      <th>...</th>\n",
       "      <td>...</td>\n",
       "      <td>...</td>\n",
       "    </tr>\n",
       "    <tr>\n",
       "      <th>sp-o10814</th>\n",
       "      <td>5.441568e+05</td>\n",
       "      <td>191.058089</td>\n",
       "    </tr>\n",
       "    <tr>\n",
       "      <th>sp-o10814</th>\n",
       "      <td>2.128985e+05</td>\n",
       "      <td>74.750477</td>\n",
       "    </tr>\n",
       "    <tr>\n",
       "      <th>sp-o10814</th>\n",
       "      <td>3.669286e+07</td>\n",
       "      <td>12883.175763</td>\n",
       "    </tr>\n",
       "    <tr>\n",
       "      <th>410791</th>\n",
       "      <td>2.610250e+05</td>\n",
       "      <td>91.648084</td>\n",
       "    </tr>\n",
       "    <tr>\n",
       "      <th>410791</th>\n",
       "      <td>1.400569e+05</td>\n",
       "      <td>49.175164</td>\n",
       "    </tr>\n",
       "  </tbody>\n",
       "</table>\n",
       "<p>729 rows × 2 columns</p>\n",
       "</div>"
      ],
      "text/plain": [
       "                Area_calc         buffer\n",
       "gauge_ID                                \n",
       "PI_357693.1  2.941558e+05     103.280591\n",
       "A4261155     1.864490e+08   65463.833114\n",
       "A4261156     6.230347e+08  218752.784993\n",
       "418.1        6.417353e+07   22531.874324\n",
       "155.1        1.166882e+07    4097.021346\n",
       "...                   ...            ...\n",
       "sp-o10814    5.441568e+05     191.058089\n",
       "sp-o10814    2.128985e+05      74.750477\n",
       "sp-o10814    3.669286e+07   12883.175763\n",
       "410791       2.610250e+05      91.648084\n",
       "410791       1.400569e+05      49.175164\n",
       "\n",
       "[729 rows x 2 columns]"
      ]
     },
     "execution_count": 12,
     "metadata": {},
     "output_type": "execute_result"
    }
   ],
   "source": [
    "ID_area['buffer'] = ID_area['Area_calc']/buffer_factor\n",
    "ID_area = ID_area.set_index(['gauge_ID'])\n",
    "ID_area"
   ]
  },
  {
   "cell_type": "code",
   "execution_count": 13,
   "metadata": {},
   "outputs": [],
   "source": [
    "buffer = ID_area.at[Tantangara, 'buffer']"
   ]
  },
  {
   "cell_type": "code",
   "execution_count": 14,
   "metadata": {},
   "outputs": [
    {
     "data": {
      "text/plain": [
       "7000.0"
      ]
     },
     "execution_count": 14,
     "metadata": {},
     "output_type": "execute_result"
    }
   ],
   "source": [
    "buffer.max()"
   ]
  },
  {
   "cell_type": "code",
   "execution_count": 16,
   "metadata": {},
   "outputs": [
    {
     "data": {
      "text/plain": [
       "68176.10956311267"
      ]
     },
     "execution_count": 16,
     "metadata": {},
     "output_type": "execute_result"
    }
   ],
   "source": [
    "Hume = '409011'\n",
    "Hume_buffer = ID_area.at[Hume, 'buffer']\n",
    "Hume_buffer.max()"
   ]
  },
  {
   "cell_type": "code",
   "execution_count": null,
   "metadata": {},
   "outputs": [],
   "source": []
  }
 ],
 "metadata": {
  "kernelspec": {
   "display_name": "Python 3",
   "language": "python",
   "name": "python3"
  },
  "language_info": {
   "codemirror_mode": {
    "name": "ipython",
    "version": 3
   },
   "file_extension": ".py",
   "mimetype": "text/x-python",
   "name": "python",
   "nbconvert_exporter": "python",
   "pygments_lexer": "ipython3",
   "version": "3.6.9"
  }
 },
 "nbformat": 4,
 "nbformat_minor": 4
}
