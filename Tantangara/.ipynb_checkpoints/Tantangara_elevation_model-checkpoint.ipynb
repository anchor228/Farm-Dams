{
 "cells": [
  {
   "cell_type": "markdown",
   "metadata": {},
   "source": [
    "## Make an elevation model of Tantangara dam using wofs and depth gauge data\n",
    "This notebook aims to make and 'Elevation Model' of Tantangara dam by taking 1m intervals of the depth gauge and making a wofs summary for each level."
   ]
  },
  {
   "cell_type": "code",
   "execution_count": 1,
   "metadata": {},
   "outputs": [],
   "source": [
    "%matplotlib inline\n",
    "\n",
    "import os\n",
    "import sys\n",
    "import pickle\n",
    "import datacube\n",
    "import numpy as np\n",
    "import pandas as pd\n",
    "from pandas import DataFrame\n",
    "import geopandas as gpd\n",
    "import geopandas.tools\n",
    "from shapely.geometry import Point\n",
    "import xarray as xr\n",
    "import ipyleaflet as ipyl\n",
    "from ipyleaflet import Map, Marker\n",
    "import ipywidgets as ipyw\n",
    "import json\n",
    "import matplotlib.pyplot as plt\n",
    "from pathlib import Path\n",
    "from IPython.display import display\n",
    "from datacube.utils import masking\n",
    "from datacube.utils import geometry \n",
    "from datacube.utils.geometry import CRS\n",
    "from datacube.helpers import write_geotiff"
   ]
  },
  {
   "cell_type": "markdown",
   "metadata": {},
   "source": [
    "## Read the csv file and make a duration curve\n",
    "This csv is from Water Data Online. It's a 'Storage Level' gauge. We'll read it with Pandas and arrange it into a duration curve."
   ]
  },
  {
   "cell_type": "code",
   "execution_count": 2,
   "metadata": {},
   "outputs": [
    {
     "data": {
      "text/plain": [
       "<matplotlib.axes._subplots.AxesSubplot at 0x7f0b359324a8>"
      ]
     },
     "execution_count": 2,
     "metadata": {},
     "output_type": "execute_result"
    },
    {
     "data": {
      "image/png": "[encoded data removed]",
      "text/plain": [
       "<Figure size 504x360 with 1 Axes>"
      ]
     },
     "metadata": {
      "needs_background": "light"
     },
     "output_type": "display_data"
    }
   ],
   "source": [
    "gauge_data = pd.read_csv('Tantangara.csv',\n",
    "                error_bad_lines = False, skiprows=9, escapechar='#',\n",
    "                         parse_dates=['Timestamp'], \n",
    "                         index_col=('Timestamp'),\n",
    "                        date_parser=lambda x: pd.to_datetime(x.rsplit('+', 1)[0])) #Robbi wrote this line\n",
    "\n",
    "#Arrange into a depth duration curve\n",
    "gauge_data = gauge_data.dropna()\n",
    "gauge_data = gauge_data.sort_values('Value')\n",
    "gauge_data['rownumber'] = np.arange(len(gauge_data))\n",
    "gauge_data['Exceedence'] = (1-(gauge_data.rownumber/len(gauge_data)))*100\n",
    "\n",
    "#drop the columns we don't need.\n",
    "gauge_data = gauge_data.drop(columns=['Interpolation Type', 'Quality Code'])\n",
    "\n",
    "#XArray is really good for linking datasets and it has some functions we want to use, so let's make this an xarray.\n",
    "gauge_data_xr = gauge_data.to_xarray()\n",
    "\n",
    "#Have a look at the depth duration curve\n",
    "gauge_data.plot(x='Exceedence', y='Value', figsize=(7, 5))"
   ]
  },
  {
   "cell_type": "markdown",
   "metadata": {},
   "source": [
    "In the end, we want to generate one image per meter of depth reading, so in this case we want about 20 images. ie get a wofs summary for each depth of Tantangara dam."
   ]
  },
  {
   "cell_type": "markdown",
   "metadata": {},
   "source": [
    "## Get the WoFS data from the datacube"
   ]
  },
  {
   "cell_type": "code",
   "execution_count": 3,
   "metadata": {},
   "outputs": [],
   "source": [
    "lat, lon, buffer = -35.75, 148.66, 6500\n",
    " \n",
    "x, y = geometry.point(lon, lat, CRS('WGS84')).to_crs(CRS('EPSG:3577')).points[0]\n",
    "query = {'x': (x - buffer, x + buffer),\n",
    "         'y': (y - buffer, y + buffer),    \n",
    "         'time': ('1980-01-01', '2020-06-30'),\n",
    "         'crs': 'EPSG:3577'} \n",
    "dc = datacube.Datacube(app='dc-WOfS')\n",
    "\n",
    "#Dask load wofs data\n",
    "wofs_albers= dc.load(product = 'wofs_albers', dask_chunks = {}, group_by='solar_day', **query)"
   ]
  },
  {
   "cell_type": "markdown",
   "metadata": {},
   "source": [
    "## Merge gauge data and satellite data with xarray"
   ]
  },
  {
   "cell_type": "code",
   "execution_count": 5,
   "metadata": {},
   "outputs": [],
   "source": [
    "#link the gauge data with the wofs data using xarray\n",
    "merged_data = gauge_data_xr.interp(Timestamp=wofs_albers.time)"
   ]
  },
  {
   "cell_type": "code",
   "execution_count": 8,
   "metadata": {},
   "outputs": [
    {
     "data": {
      "text/plain": [
       "Timestamp\n",
       "2007-02-09    1205.383\n",
       "2007-02-10    1205.394\n",
       "2007-02-08    1205.402\n",
       "2007-02-07    1205.421\n",
       "2007-02-06    1205.433\n",
       "                ...   \n",
       "2016-10-23    1224.878\n",
       "2016-10-19    1224.889\n",
       "2016-10-22    1224.897\n",
       "2016-10-21    1224.908\n",
       "2016-10-20    1224.910\n",
       "Name: Value, Length: 7791, dtype: float64"
      ]
     },
     "execution_count": 8,
     "metadata": {},
     "output_type": "execute_result"
    }
   ],
   "source": [
    "gauge_data.Value"
   ]
  },
  {
   "cell_type": "code",
   "execution_count": 17,
   "metadata": {},
   "outputs": [
    {
     "data": {
      "text/plain": [
       "Timestamp\n",
       "2007-02-09    1205\n",
       "2007-02-10    1205\n",
       "2007-02-08    1205\n",
       "2007-02-07    1205\n",
       "2007-02-06    1205\n",
       "              ... \n",
       "2016-10-23    1224\n",
       "2016-10-19    1224\n",
       "2016-10-22    1224\n",
       "2016-10-21    1224\n",
       "2016-10-20    1224\n",
       "Name: Value, Length: 7791, dtype: int64"
      ]
     },
     "execution_count": 17,
     "metadata": {},
     "output_type": "execute_result"
    }
   ],
   "source": [
    "#get meters as an integer\n",
    "gauge_int = gauge_data.astype(np.int64)\n",
    "gauge_int.Value"
   ]
  },
  {
   "cell_type": "markdown",
   "metadata": {},
   "source": [
    "## We'll have to do a loop to generate the 20 wofs summary images of Tantangara dam.\n",
    "This is going to take so long because there are like 1000 passes that need to be loaded. I'm thinking of doing a loop for each meter. I want to say 'for every meter of the gauge reading, get the clear passes and make a summary image'. Each summary image probably doesn't need to be more than 10 passes. There's a thousand passes for Tantangara dam, I really don't need all of them it will just slow down the running time. "
   ]
  },
  {
   "cell_type": "code",
   "execution_count": null,
   "metadata": {},
   "outputs": [],
   "source": [
    "meter_list = []\n",
    "for i in range(len(stations)):\n",
    "    pos = stations[i].pos\n",
    "    name = stations[i].name\n",
    "    pos_list.append(pos)\n",
    "    name_list.append(name)\n",
    "    "
   ]
  },
  {
   "cell_type": "code",
   "execution_count": null,
   "metadata": {},
   "outputs": [],
   "source": [
    "# Get list of dates to keep\n",
    "date_list = specified_level.time.values\n",
    "\n",
    "print(f'You are about to load {specified_level.time.shape[0]} satellite passes')"
   ]
  },
  {
   "cell_type": "code",
   "execution_count": null,
   "metadata": {},
   "outputs": [],
   "source": [
    "lat, lon, buffer = -35.75, 148.66, 6500\n",
    "x, y = geometry.point(lon, lat, CRS('WGS84')).to_crs(CRS('EPSG:3577')).points[0]\n",
    "query = {'x': (x - buffer, x + buffer),\n",
    "         'y': (y - buffer, y + buffer), \n",
    "         'crs': 'EPSG:3577'} \n",
    "\n",
    "xr_list = []\n",
    "for date in date_list:\n",
    "    #print(date)\n",
    "    date = str(date)  \n",
    "    wofs_albers= dc.load(product = 'wofs_albers', time=date,  **query)\n",
    "    xr_list.append(wofs_albers)"
   ]
  },
  {
   "cell_type": "code",
   "execution_count": null,
   "metadata": {},
   "outputs": [],
   "source": [
    "specified_passes = xr.concat(xr_list, dim='time')\n",
    "specified_passes"
   ]
  },
  {
   "cell_type": "markdown",
   "metadata": {},
   "source": [
    "## Cloud Mask"
   ]
  },
  {
   "cell_type": "code",
   "execution_count": null,
   "metadata": {},
   "outputs": [],
   "source": [
    "# Load the passes that happened during the specified flow parameters\n",
    "specified_passes = wofs_albers.sel(time=date_list).compute()\n",
    "\n",
    "# Calculate the number of cloudy pixels per timestep\n",
    "cc = masking.make_mask(specified_passes.water, cloud=True)\n",
    "ncloud_pixels = cc.sum(dim=['x', 'y'])\n",
    "\n",
    "# Calculate the total number of pixels per timestep\n",
    "npixels_per_slice = (specified_passes.water.shape[1] * \n",
    "                     specified_passes.water.shape[2])\n",
    "\n",
    "# Calculate the proportion of cloudy pixels\n",
    "cloud_pixels_fraction = (ncloud_pixels / npixels_per_slice)\n",
    "\n",
    "# Filter out \"too cloudy\" passes (i.e. more than 50% cloud)\n",
    "clear_specified_passes = specified_passes.water.isel(\n",
    "    time=cloud_pixels_fraction < 0.5)\n",
    "\n",
    "print(f'After cloud filtering, there are '\n",
    "      f'{clear_specified_passes.time.shape[0]} passes available, which were used to make this image\\n')"
   ]
  }
 ],
 "metadata": {
  "kernelspec": {
   "display_name": "Python 3",
   "language": "python",
   "name": "python3"
  },
  "language_info": {
   "codemirror_mode": {
    "name": "ipython",
    "version": 3
   },
   "file_extension": ".py",
   "mimetype": "text/x-python",
   "name": "python",
   "nbconvert_exporter": "python",
   "pygments_lexer": "ipython3",
   "version": "3.6.9"
  }
 },
 "nbformat": 4,
 "nbformat_minor": 4
}
