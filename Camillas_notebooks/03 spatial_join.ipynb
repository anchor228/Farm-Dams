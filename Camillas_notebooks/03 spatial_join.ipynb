{
 "cells": [
  {
   "cell_type": "markdown",
   "metadata": {},
   "source": [
    "This notebook is used to find the corresponding climate and state codes for indvidual waterbodies delineated by 01 res_intersect.ipynb so that they can be diaggregated accordingly."
   ]
  },
  {
   "cell_type": "code",
   "execution_count": 1,
   "metadata": {},
   "outputs": [],
   "source": [
    "from functools import reduce\n",
    "import geopandas as gpd\n",
    "import fiona\n",
    "import pickle"
   ]
  },
  {
   "cell_type": "code",
   "execution_count": 2,
   "metadata": {},
   "outputs": [],
   "source": [
    "fp_clim = 'Documents/GIS DataBase/farmdams/Koppen_Gerrit_Hendriksen_GDA94.shp'\n",
    "fp_states = 'Documents/GIS DataBase/farmdams/states.shp'\n",
    "fp_res = 'Documents/GIS DataBase/farmdams/geo_results/res_intersect.shp'"
   ]
  },
  {
   "cell_type": "code",
   "execution_count": 3,
   "metadata": {},
   "outputs": [],
   "source": [
    "# define function to import selected columns from feature layers for geopandas - similar to usecols for pandas\n",
    "def records(filename, usecols, **kwargs):\n",
    "    with fiona.open(filename, **kwargs) as source:\n",
    "        for feature in source:\n",
    "            f = {k: feature[k] for k in ['id', 'geometry']}\n",
    "            f['properties'] = {k: feature['properties'][k] for k in usecols}\n",
    "            yield f"
   ]
  },
  {
   "cell_type": "code",
   "execution_count": 4,
   "metadata": {},
   "outputs": [],
   "source": [
    "# import shapefiles\n",
    "res = gpd.read_file(fp_res)\n",
    "climate = gpd.GeoDataFrame.from_features(records(fp_clim, usecols = ['FolderPath', 'SymbolID']))\n",
    "states = gpd.GeoDataFrame.from_features(records(fp_states, usecols = ['STATE_CODE']))"
   ]
  },
  {
   "cell_type": "code",
   "execution_count": 5,
   "metadata": {},
   "outputs": [
    {
     "name": "stdout",
     "output_type": "stream",
     "text": [
      "False\n",
      "False\n"
     ]
    }
   ],
   "source": [
    "# check if projections match, if not proceed to next cell\n",
    "print(res.crs == states.crs)\n",
    "print(res.crs == climate.crs)"
   ]
  },
  {
   "cell_type": "code",
   "execution_count": 8,
   "metadata": {},
   "outputs": [
    {
     "name": "stdout",
     "output_type": "stream",
     "text": [
      "{'init': 'epsg:4283'}\n",
      "{'init': 'epsg:4283'}\n"
     ]
    }
   ],
   "source": [
    "# print crs, if 'None' move to next cell\n",
    "print(states.crs)\n",
    "print(climate.crs)"
   ]
  },
  {
   "cell_type": "code",
   "execution_count": 7,
   "metadata": {},
   "outputs": [],
   "source": [
    "# set crs to res crs\n",
    "states.crs = {'init': 'epsg:4283'}\n",
    "climate.crs = {'init': 'epsg:4283'}"
   ]
  },
  {
   "cell_type": "code",
   "execution_count": 9,
   "metadata": {},
   "outputs": [],
   "source": [
    "# define function to create spatial join from multiple geopandas dataframes - similar to usecols for pandas\n",
    "def join_reducer(left, right):\n",
    "    \"\"\"\n",
    "    Take two geodataframes, do a spatial join, and return without the\n",
    "    index_left and index_right columns.\n",
    "    \"\"\"\n",
    "    sjoin = gpd.sjoin(left, right, how='left')\n",
    "    for column in ['index_right']:\n",
    "        try:\n",
    "            sjoin.drop(column, axis=1, inplace=True)\n",
    "        except ValueError:\n",
    "            # ignore if there are no index columns\n",
    "            pass\n",
    "    return sjoin"
   ]
  },
  {
   "cell_type": "code",
   "execution_count": 10,
   "metadata": {},
   "outputs": [],
   "source": [
    "# set input frames for spatial join using join_reducer function\n",
    "input_frames = [res, climate, states]"
   ]
  },
  {
   "cell_type": "code",
   "execution_count": 11,
   "metadata": {},
   "outputs": [],
   "source": [
    "# spatial join\n",
    "sjoin = reduce(join_reducer, input_frames)"
   ]
  },
  {
   "cell_type": "code",
   "execution_count": 13,
   "metadata": {},
   "outputs": [],
   "source": [
    "# save to pickle\n",
    "with open('Documents/GIS DataBase/farmdams/geo_results/res_sjoin.pickle', 'wb') as handle:\n",
    "        pickle.dump(sjoin, handle, protocol=pickle.HIGHEST_PROTOCOL)"
   ]
  },
  {
   "cell_type": "code",
   "execution_count": 14,
   "metadata": {},
   "outputs": [],
   "source": [
    "# save to file\n",
    "sjoin.to_file('Documents/GIS DataBase/farmdams/geo_results/res_sjoin.shp')"
   ]
  },
  {
   "cell_type": "code",
   "execution_count": null,
   "metadata": {},
   "outputs": [],
   "source": []
  }
 ],
 "metadata": {
  "kernelspec": {
   "display_name": "Python 3",
   "language": "python",
   "name": "python3"
  },
  "language_info": {
   "codemirror_mode": {
    "name": "ipython",
    "version": 3
   },
   "file_extension": ".py",
   "mimetype": "text/x-python",
   "name": "python",
   "nbconvert_exporter": "python",
   "pygments_lexer": "ipython3",
   "version": "3.6.9"
  }
 },
 "nbformat": 4,
 "nbformat_minor": 4
}
