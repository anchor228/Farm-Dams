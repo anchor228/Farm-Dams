{
 "cells": [
  {
   "cell_type": "markdown",
   "metadata": {},
   "source": [
    "This notebook details first steps taken to create a timeseries of areal extent of all reservoirs to estimate carbon emissions from flooded lands for inclusion in the 20_18 NIR. Geometry of known water bodies was sourced from the geofabric dataset supplied by BOM (http://www.bom.gov.au/water/geofabric/download.shtml) and the timeseries of wet pixels was supplied by GA (https://data.dea.ga.gov.au/?prefix=projects/WaterBodies/). An intersection of the two layers was performed to identify relevant FID's which were used to find the corresponding csv files to process using 02 process_csv.ipynb."
   ]
  },
  {
   "cell_type": "code",
   "execution_count": 1,
   "metadata": {},
   "outputs": [],
   "source": [
    "# import libraries\n",
    "import geopandas as gpd\n",
    "import pandas as pd\n",
    "import pickle"
   ]
  },
  {
   "cell_type": "code",
   "execution_count": 2,
   "metadata": {},
   "outputs": [],
   "source": [
    "# set filepaths\n",
    "fp_res = 'Documents/GIS DataBase/farmdams/geofabric/ReservoirArea.shp'\n",
    "fp_wbs = 'Documents/GIS DataBase/SourceData/dea-public-data/water_bodies_EPSG4283.shp'"
   ]
  },
  {
   "cell_type": "code",
   "execution_count": 3,
   "metadata": {},
   "outputs": [],
   "source": [
    "# read files\n",
    "reservoirs = gpd.read_file(fp_res)\n",
    "water_bodies = gpd.read_file(fp_wbs)"
   ]
  },
  {
   "cell_type": "code",
   "execution_count": 4,
   "metadata": {},
   "outputs": [
    {
     "data": {
      "text/plain": [
       "True"
      ]
     },
     "execution_count": 4,
     "metadata": {},
     "output_type": "execute_result"
    }
   ],
   "source": [
    "# check geometry - if false, reproject one layer to match the other\n",
    "reservoirs.crs == water_bodies.crs"
   ]
  },
  {
   "cell_type": "code",
   "execution_count": 5,
   "metadata": {},
   "outputs": [],
   "source": [
    "# list columns & subset dataframes\n",
    "wb_cols = ['FID', 'geometry']\n",
    "res_cols = ['OBJECTID', 'NAME', 'geometry']\n",
    "\n",
    "water_bodies = water_bodies[wb_cols]\n",
    "reservoirs = reservoirs[res_cols]"
   ]
  },
  {
   "cell_type": "code",
   "execution_count": 6,
   "metadata": {},
   "outputs": [
    {
     "name": "stdout",
     "output_type": "stream",
     "text": [
      "1902\n"
     ]
    }
   ],
   "source": [
    "# find intersect & check length of reservoirs dataframe\n",
    "res_intersect = gpd.overlay(reservoirs, water_bodies, how='intersection')\n",
    "print(len(res_intersect))"
   ]
  },
  {
   "cell_type": "code",
   "execution_count": 8,
   "metadata": {},
   "outputs": [
    {
     "name": "stdout",
     "output_type": "stream",
     "text": [
      "1901\n",
      "1861\n"
     ]
    }
   ],
   "source": [
    "# cleaning to remove waterbodies that are not considered 'land converted to flooded land' for GHG accounting purposes, specifically\n",
    "# those that exist in the mouth of the Murray\n",
    "delete_rows = res_intersect[res_intersect.iloc[:,1] == 'LAKE VICTORIA'].index\n",
    "res_intersect = res_intersect.drop(delete_rows)\n",
    "print(len(res_intersect))\n",
    "\n",
    "delete_rows = res_intersect[res_intersect.iloc[:,1] == 'LAKE ALBERT'].index\n",
    "res_intersect = res_intersect.drop(delete_rows)\n",
    "print(len(res_intersect))"
   ]
  },
  {
   "cell_type": "code",
   "execution_count": 9,
   "metadata": {},
   "outputs": [],
   "source": [
    "# save output to pickle to avoid re-creating dataset each time\n",
    "with open('Documents/GIS DataBase/farmdams/geo_results/res_intersect.pickle', 'wb') as handle:\n",
    "        pickle.dump(res_intersect, handle, protocol=pickle.HIGHEST_PROTOCOL)"
   ]
  },
  {
   "cell_type": "code",
   "execution_count": 10,
   "metadata": {},
   "outputs": [],
   "source": [
    "# load pickle\n",
    "res_intersect = pickle.load(open('Documents/GIS DataBase/farmdams/geo_results/res_intersect.pickle', 'rb'))"
   ]
  },
  {
   "cell_type": "code",
   "execution_count": 11,
   "metadata": {},
   "outputs": [],
   "source": [
    "# save intersection to shapefile\n",
    "res_intersect.to_file('Documents/GIS DataBase/farmdams/geo_results/res_intersect.shp')"
   ]
  }
 ],
 "metadata": {
  "kernelspec": {
   "display_name": "Python 3",
   "language": "python",
   "name": "python3"
  },
  "language_info": {
   "codemirror_mode": {
    "name": "ipython",
    "version": 3
   },
   "file_extension": ".py",
   "mimetype": "text/x-python",
   "name": "python",
   "nbconvert_exporter": "python",
   "pygments_lexer": "ipython3",
   "version": "3.7.3"
  }
 },
 "nbformat": 4,
 "nbformat_minor": 4
}
