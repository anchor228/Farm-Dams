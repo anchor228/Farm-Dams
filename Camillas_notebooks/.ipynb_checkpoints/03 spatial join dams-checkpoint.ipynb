{
 "cells": [
  {
   "cell_type": "markdown",
   "metadata": {},
   "source": [
    "This notebook is used to find the corresponding climate and state codes for indvidual waterbodies delineated by 01 res_intersect.ipynb so that they can be diaggregated accordingly."
   ]
  },
  {
   "cell_type": "code",
   "execution_count": 1,
   "metadata": {},
   "outputs": [],
   "source": [
    "# import libraries\n",
    "%matplotlib inline\n",
    "import matplotlib.pyplot as plt\n",
    "from functools import reduce\n",
    "import geopandas as gpd\n",
    "import fiona\n",
    "import pickle"
   ]
  },
  {
   "cell_type": "code",
   "execution_count": 2,
   "metadata": {},
   "outputs": [],
   "source": [
    "# set filepaths\n",
    "fp_clim = 'P:/projects/SpecialistProjects/farmdams/Koppen_Gerrit_Hendriksen_GDA94.shp'\n",
    "fp_nsw = 'P:/projects/SpecialistProjects/farmdams/geo_results/intersect_nsw.shp'"
   ]
  },
  {
   "cell_type": "code",
   "execution_count": 3,
   "metadata": {},
   "outputs": [],
   "source": [
    "# define function to import selected columns from feature layers for geopandas - similar to usecols for pandas\n",
    "def records(filename, usecols, **kwargs):\n",
    "    with fiona.open(filename, **kwargs) as source:\n",
    "        for feature in source:\n",
    "            f = {k: feature[k] for k in ['id', 'geometry']}\n",
    "            f['properties'] = {k: feature['properties'][k] for k in usecols}\n",
    "            yield f"
   ]
  },
  {
   "cell_type": "code",
   "execution_count": 4,
   "metadata": {},
   "outputs": [],
   "source": [
    "# import shapefiles\n",
    "nsw = gpd.read_file(fp_nsw)\n",
    "climate = gpd.GeoDataFrame.from_features(records(fp_clim, usecols = ['FolderPath', 'SymbolID']))"
   ]
  },
  {
   "cell_type": "code",
   "execution_count": 5,
   "metadata": {},
   "outputs": [
    {
     "name": "stdout",
     "output_type": "stream",
     "text": [
      "False\n"
     ]
    }
   ],
   "source": [
    "# check if projections match, if not proceed to next cell\n",
    "print(nsw.crs == climate.crs)"
   ]
  },
  {
   "cell_type": "code",
   "execution_count": 8,
   "metadata": {},
   "outputs": [
    {
     "name": "stdout",
     "output_type": "stream",
     "text": [
      "{'init': 'epsg:4326'}\n",
      "{'init': 'epsg:4326'}\n"
     ]
    }
   ],
   "source": [
    "# print crs, if 'None' move to next cell\n",
    "print(nsw.crs)\n",
    "print(climate.crs)"
   ]
  },
  {
   "cell_type": "code",
   "execution_count": 7,
   "metadata": {},
   "outputs": [],
   "source": [
    "# set crs to nsw crs\n",
    "climate.crs = {'init': 'epsg:4326'}"
   ]
  },
  {
   "cell_type": "code",
   "execution_count": 9,
   "metadata": {},
   "outputs": [],
   "source": [
    "# define function to create spatial join from multiple geopandas dataframes - similar to usecols for pandas\n",
    "def join_reducer(left, right):\n",
    "    \"\"\"\n",
    "    Take two geodataframes, do a spatial join, and return without the\n",
    "    index_left and index_right columns.\n",
    "    \"\"\"\n",
    "    sjoin = gpd.sjoin(left, right, how='left')\n",
    "    for column in ['index_right']:\n",
    "        try:\n",
    "            sjoin.drop(column, axis=1, inplace=True)\n",
    "        except ValueError:\n",
    "            # ignore if there are no index columns\n",
    "            pass\n",
    "    return sjoin"
   ]
  },
  {
   "cell_type": "code",
   "execution_count": 10,
   "metadata": {},
   "outputs": [],
   "source": [
    "# set input frames for spatial join using join_reducer function\n",
    "input_frames = [nsw, climate]"
   ]
  },
  {
   "cell_type": "code",
   "execution_count": 11,
   "metadata": {},
   "outputs": [
    {
     "name": "stderr",
     "output_type": "stream",
     "text": [
      "C:\\Program Files\\ArcGIS\\Pro\\bin\\Python\\envs\\jlab-test\\lib\\site-packages\\numpy\\lib\\function_base.py:2167: RuntimeWarning: invalid value encountered in ? (vectorized)\n",
      "  outputs = ufunc(*inputs)\n"
     ]
    }
   ],
   "source": [
    "# spatial join\n",
    "sjoin = reduce(join_reducer, input_frames)"
   ]
  },
  {
   "cell_type": "code",
   "execution_count": 13,
   "metadata": {},
   "outputs": [],
   "source": [
    "# save to pickle\n",
    "with open('P:/projects/SpecialistProjects/farmdams/geo_results/res_sjoin.pickle', 'wb') as handle:\n",
    "        pickle.dump(sjoin, handle, protocol=pickle.HIGHEST_PROTOCOL)"
   ]
  },
  {
   "cell_type": "code",
   "execution_count": 14,
   "metadata": {},
   "outputs": [],
   "source": [
    "# save to file\n",
    "sjoin.to_file('P:/projects/SpecialistProjects/farmdams/geo_results/sjoin_nsw.shp')"
   ]
  },
  {
   "cell_type": "code",
   "execution_count": 12,
   "metadata": {},
   "outputs": [
    {
     "data": {
      "text/html": [
       "<div>\n",
       "<style scoped>\n",
       "    .dataframe tbody tr th:only-of-type {\n",
       "        vertical-align: middle;\n",
       "    }\n",
       "\n",
       "    .dataframe tbody tr th {\n",
       "        vertical-align: top;\n",
       "    }\n",
       "\n",
       "    .dataframe thead th {\n",
       "        text-align: right;\n",
       "    }\n",
       "</style>\n",
       "<table border=\"1\" class=\"dataframe\">\n",
       "  <thead>\n",
       "    <tr style=\"text-align: right;\">\n",
       "      <th></th>\n",
       "      <th>OBJECTID</th>\n",
       "      <th>NAME</th>\n",
       "      <th>STATE_CODE</th>\n",
       "      <th>FID</th>\n",
       "      <th>geometry</th>\n",
       "      <th>FolderPath</th>\n",
       "      <th>SymbolID</th>\n",
       "    </tr>\n",
       "  </thead>\n",
       "  <tbody>\n",
       "    <tr>\n",
       "      <th>0</th>\n",
       "      <td>10741</td>\n",
       "      <td>None</td>\n",
       "      <td>3</td>\n",
       "      <td>195266</td>\n",
       "      <td>POLYGON ((151.15930 -32.47404, 151.15926 -32.4...</td>\n",
       "      <td>World K ppen/Features (GRIDCODE)/Cfa</td>\n",
       "      <td>12.0</td>\n",
       "    </tr>\n",
       "    <tr>\n",
       "      <th>1</th>\n",
       "      <td>10744</td>\n",
       "      <td>None</td>\n",
       "      <td>3</td>\n",
       "      <td>211770</td>\n",
       "      <td>POLYGON ((153.00741 -29.48098, 153.00751 -29.4...</td>\n",
       "      <td>World K ppen/Features (GRIDCODE)/Cfa</td>\n",
       "      <td>12.0</td>\n",
       "    </tr>\n",
       "    <tr>\n",
       "      <th>2</th>\n",
       "      <td>10745</td>\n",
       "      <td>None</td>\n",
       "      <td>3</td>\n",
       "      <td>141851</td>\n",
       "      <td>POLYGON ((149.58785 -34.56341, 149.58747 -34.5...</td>\n",
       "      <td>World K ppen/Features (GRIDCODE)/Cfb</td>\n",
       "      <td>13.0</td>\n",
       "    </tr>\n",
       "    <tr>\n",
       "      <th>3</th>\n",
       "      <td>11162</td>\n",
       "      <td>None</td>\n",
       "      <td>3</td>\n",
       "      <td>141851</td>\n",
       "      <td>POLYGON ((149.58578 -34.56294, 149.58591 -34.5...</td>\n",
       "      <td>World K ppen/Features (GRIDCODE)/Cfb</td>\n",
       "      <td>13.0</td>\n",
       "    </tr>\n",
       "    <tr>\n",
       "      <th>4</th>\n",
       "      <td>10746</td>\n",
       "      <td>None</td>\n",
       "      <td>3</td>\n",
       "      <td>192659</td>\n",
       "      <td>POLYGON ((147.66188 -31.22212, 147.66158 -31.2...</td>\n",
       "      <td>World K ppen/Features (GRIDCODE)/BSh</td>\n",
       "      <td>5.0</td>\n",
       "    </tr>\n",
       "  </tbody>\n",
       "</table>\n",
       "</div>"
      ],
      "text/plain": [
       "   OBJECTID  NAME  STATE_CODE     FID  \\\n",
       "0     10741  None           3  195266   \n",
       "1     10744  None           3  211770   \n",
       "2     10745  None           3  141851   \n",
       "3     11162  None           3  141851   \n",
       "4     10746  None           3  192659   \n",
       "\n",
       "                                            geometry  \\\n",
       "0  POLYGON ((151.15930 -32.47404, 151.15926 -32.4...   \n",
       "1  POLYGON ((153.00741 -29.48098, 153.00751 -29.4...   \n",
       "2  POLYGON ((149.58785 -34.56341, 149.58747 -34.5...   \n",
       "3  POLYGON ((149.58578 -34.56294, 149.58591 -34.5...   \n",
       "4  POLYGON ((147.66188 -31.22212, 147.66158 -31.2...   \n",
       "\n",
       "                             FolderPath  SymbolID  \n",
       "0  World K ppen/Features (GRIDCODE)/Cfa      12.0  \n",
       "1  World K ppen/Features (GRIDCODE)/Cfa      12.0  \n",
       "2  World K ppen/Features (GRIDCODE)/Cfb      13.0  \n",
       "3  World K ppen/Features (GRIDCODE)/Cfb      13.0  \n",
       "4  World K ppen/Features (GRIDCODE)/BSh       5.0  "
      ]
     },
     "execution_count": 12,
     "metadata": {},
     "output_type": "execute_result"
    }
   ],
   "source": [
    "sjoin.head()"
   ]
  },
  {
   "cell_type": "code",
   "execution_count": null,
   "metadata": {},
   "outputs": [],
   "source": []
  }
 ],
 "metadata": {
  "kernelspec": {
   "display_name": "Python 3",
   "language": "python",
   "name": "python3"
  },
  "language_info": {
   "codemirror_mode": {
    "name": "ipython",
    "version": 3
   },
   "file_extension": ".py",
   "mimetype": "text/x-python",
   "name": "python",
   "nbconvert_exporter": "python",
   "pygments_lexer": "ipython3",
   "version": "3.7.3"
  }
 },
 "nbformat": 4,
 "nbformat_minor": 4
}
