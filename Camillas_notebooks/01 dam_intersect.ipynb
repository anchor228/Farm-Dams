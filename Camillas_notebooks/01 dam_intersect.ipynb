{
 "cells": [
  {
   "cell_type": "markdown",
   "metadata": {},
   "source": [
    "This notebook details first steps taken to create a timeseries of areal extent of farm dams by state to estimate carbon emissions from flooded lands for inclusion in the 20_18 NIR. Geometry of known water bodies was sourced from the geofabric dataset supplied by BOM (http://www.bom.gov.au/water/geofabric/download.shtml) and the timeseries of wet pixels was supplied by GA (https://data.dea.ga.gov.au/?prefix=projects/WaterBodies/). An intersection of the two layers was performed to identify relevant FID's which were used to find the corresponding csv files to process using 02 process_csv.ipynb."
   ]
  },
  {
   "cell_type": "code",
   "execution_count": 5,
   "metadata": {},
   "outputs": [],
   "source": [
    "# import libraries\n",
    "%matplotlib inline\n",
    "import matplotlib.pyplot as plt\n",
    "import geopandas as gpd\n",
    "import pandas as pd\n",
    "import pickle"
   ]
  },
  {
   "cell_type": "code",
   "execution_count": 6,
   "metadata": {},
   "outputs": [],
   "source": [
    "# set filepaths\n",
    "fp_fds = 'FarmDamArea.shp'\n",
    "fp_wbs = r'P:/projects/SpecialistProjects/farmdams/dea-public-data/WaterBodies/water_bodies_esri/water_bodies.shp'\n",
    "fp_sts = r'P:/lib/context/states.shp'"
   ]
  },
  {
   "cell_type": "code",
   "execution_count": 7,
   "metadata": {},
   "outputs": [],
   "source": [
    "# read files\n",
    "farm_dams = gpd.read_file(fp_fds)\n",
    "water_bodies = gpd.read_file(fp_wbs)\n",
    "states = gpd.read_file(fp_sts)"
   ]
  },
  {
   "cell_type": "code",
   "execution_count": 8,
   "metadata": {},
   "outputs": [
    {
     "name": "stdout",
     "output_type": "stream",
     "text": [
      "False\n",
      "True\n"
     ]
    }
   ],
   "source": [
    "# check geometry - if false, reproject one layer to match the other\n",
    "print(farm_dams.crs == water_bodies.crs)\n",
    "print(farm_dams.crs == states.crs)"
   ]
  },
  {
   "cell_type": "code",
   "execution_count": 15,
   "metadata": {},
   "outputs": [],
   "source": [
    "# sometimes the projection is not imported so set projection if known\n",
    "# farm_dams.crs = {'init' :'epsg:4283'}\n",
    "# states.crs = {'init' :'epsg:4283'}"
   ]
  },
  {
   "cell_type": "code",
   "execution_count": 9,
   "metadata": {},
   "outputs": [
    {
     "name": "stderr",
     "output_type": "stream",
     "text": [
      "C:\\Program Files\\ArcGIS\\Pro\\bin\\Python\\envs\\jlab-test\\lib\\site-packages\\pyproj\\crs.py:77: FutureWarning: '+init=<authority>:<code>' syntax is deprecated. '<authority>:<code>' is the preferred initialization method.\n",
      "  return _prepare_from_string(\" \".join(pjargs))\n"
     ]
    }
   ],
   "source": [
    "# make a copy of dataset and convert crs where required\n",
    "water_bodies_epsg4283 = water_bodies.copy()\n",
    "water_bodies_epsg4283 = water_bodies_epsg4283.to_crs({'init' :'epsg:4283'})\n",
    "\n",
    "# delete dataframes that are no longer required\n",
    "del water_bodies"
   ]
  },
  {
   "cell_type": "code",
   "execution_count": 11,
   "metadata": {},
   "outputs": [],
   "source": [
    "# list columns to keep & subset dataframes\n",
    "wb_cols = ['FID', 'geometry']\n",
    "fds_cols = ['OBJECTID', 'NAME', 'geometry']\n",
    "sts_cols = ['STATE_CODE', 'geometry']\n",
    "\n",
    "water_bodies_epsg4283 = water_bodies_epsg4283[wb_cols]\n",
    "farm_dams = farm_dams[fds_cols]\n",
    "states = states[sts_cols]"
   ]
  },
  {
   "cell_type": "code",
   "execution_count": 12,
   "metadata": {},
   "outputs": [
    {
     "data": {
      "text/html": [
       "<div>\n",
       "<style scoped>\n",
       "    .dataframe tbody tr th:only-of-type {\n",
       "        vertical-align: middle;\n",
       "    }\n",
       "\n",
       "    .dataframe tbody tr th {\n",
       "        vertical-align: top;\n",
       "    }\n",
       "\n",
       "    .dataframe thead th {\n",
       "        text-align: right;\n",
       "    }\n",
       "</style>\n",
       "<table border=\"1\" class=\"dataframe\">\n",
       "  <thead>\n",
       "    <tr style=\"text-align: right;\">\n",
       "      <th></th>\n",
       "      <th>OBJECTID</th>\n",
       "      <th>NAME</th>\n",
       "      <th>geometry</th>\n",
       "    </tr>\n",
       "  </thead>\n",
       "  <tbody>\n",
       "    <tr>\n",
       "      <th>0</th>\n",
       "      <td>10740</td>\n",
       "      <td>None</td>\n",
       "      <td>POLYGON ((141.99156 -35.91089, 141.99130 -35.9...</td>\n",
       "    </tr>\n",
       "    <tr>\n",
       "      <th>1</th>\n",
       "      <td>10741</td>\n",
       "      <td>None</td>\n",
       "      <td>POLYGON ((151.16465 -32.47216, 151.16415 -32.4...</td>\n",
       "    </tr>\n",
       "    <tr>\n",
       "      <th>2</th>\n",
       "      <td>10744</td>\n",
       "      <td>None</td>\n",
       "      <td>POLYGON ((153.00551 -29.47765, 153.00572 -29.4...</td>\n",
       "    </tr>\n",
       "    <tr>\n",
       "      <th>3</th>\n",
       "      <td>10745</td>\n",
       "      <td>None</td>\n",
       "      <td>POLYGON ((149.58785 -34.56341, 149.58747 -34.5...</td>\n",
       "    </tr>\n",
       "    <tr>\n",
       "      <th>4</th>\n",
       "      <td>10746</td>\n",
       "      <td>None</td>\n",
       "      <td>POLYGON ((147.66188 -31.22212, 147.66158 -31.2...</td>\n",
       "    </tr>\n",
       "  </tbody>\n",
       "</table>\n",
       "</div>"
      ],
      "text/plain": [
       "   OBJECTID  NAME                                           geometry\n",
       "0     10740  None  POLYGON ((141.99156 -35.91089, 141.99130 -35.9...\n",
       "1     10741  None  POLYGON ((151.16465 -32.47216, 151.16415 -32.4...\n",
       "2     10744  None  POLYGON ((153.00551 -29.47765, 153.00572 -29.4...\n",
       "3     10745  None  POLYGON ((149.58785 -34.56341, 149.58747 -34.5...\n",
       "4     10746  None  POLYGON ((147.66188 -31.22212, 147.66158 -31.2..."
      ]
     },
     "execution_count": 12,
     "metadata": {},
     "output_type": "execute_result"
    }
   ],
   "source": [
    "farm_dams.head()"
   ]
  },
  {
   "cell_type": "markdown",
   "metadata": {},
   "source": [
    "State codes defined in the feature layer 'P:/lib/context/states.shp' are listed below:\n",
    "\n",
    "ACT = 1 & 2;\n",
    "NSW = 3;\n",
    "NT = 4;\n",
    "QLD = 5;\n",
    "SA = 6;\n",
    "TAS = 7;\n",
    "VIC = 8;\n",
    "WA = 9"
   ]
  },
  {
   "cell_type": "code",
   "execution_count": 34,
   "metadata": {},
   "outputs": [],
   "source": [
    "# find dams by state to reduce processing times\n",
    "dfObj[(dfObj['Sale'] > 30) & (dfObj['Sale'] < 33) ]\n",
    "# dams_act = gpd.overlay(farm_dams, states.[(states['STATE_CODE'] == 1) & (states['STATE_CODE'] == 2)], how='intersection')\n",
    "# dams_nsw = gpd.overlay(farm_dams, states.loc[states['STATE_CODE'] == 3], how='intersection')\n",
    "# dams_nt = gpd.overlay(farm_dams, states.loc[states['STATE_CODE'] == 4], how='intersection')\n",
    "dams_qld = gpd.overlay(farm_dams, states.loc[states['STATE_CODE'] == 5], how='intersection')\n",
    "# dams_sa = gpd.overlay(farm_dams, states.loc[states['STATE_CODE'] == 6], how='intersection')\n",
    "# dams_tas = gpd.overlay(farm_dams, states.loc[states['STATE_CODE'] == 7], how='intersection')\n",
    "# dams_vic = gpd.overlay(farm_dams, states.loc[states['STATE_CODE'] == 8], how='intersection')\n",
    "# dams_wa = gpd.overlay(farm_dams, states.loc[states['STATE_CODE'] == 9], how='intersection')"
   ]
  },
  {
   "cell_type": "code",
   "execution_count": 36,
   "metadata": {},
   "outputs": [
    {
     "data": {
      "text/plain": [
       "<matplotlib.axes._subplots.AxesSubplot at 0x1a056eb8>"
      ]
     },
     "execution_count": 36,
     "metadata": {},
     "output_type": "execute_result"
    },
    {
     "data": {
      "image/png": "[encoded data removed]",
      "text/plain": [
       "<Figure size 432x288 with 1 Axes>"
      ]
     },
     "metadata": {
      "needs_background": "light"
     },
     "output_type": "display_data"
    }
   ],
   "source": [
    "dams_qld.plot()"
   ]
  },
  {
   "cell_type": "code",
   "execution_count": 46,
   "metadata": {},
   "outputs": [],
   "source": [
    "# find corresponding DEA water bodies\n",
    "# intersect_act = gpd.overlay(dams_act, water_bodies_epsg4283, how='intersection')\n",
    "# intersect_nsw = gpd.overlay(dams_nsw, water_bodies_epsg4283, how='intersection')\n",
    "# intersect_nt = gpd.overlay(dams_nt, water_bodies_epsg4283, how='intersection')\n",
    "intersect_qld = gpd.overlay(dams_qld, water_bodies_epsg4283, how='intersection')\n",
    "# intersect_sa = gpd.overlay(dams_sa, water_bodies_epsg4283, how='intersection')\n",
    "# intersect_tas = gpd.overlay(dams_tas, water_bodies_epsg4283, how='intersection')\n",
    "# intersect_vic = gpd.overlay(dams_vic, water_bodies_epsg4283, how='intersection')\n",
    "# intersect_wa = gpd.overlay(dams_wa, water_bodies_epsg4283, how='intersection')"
   ]
  },
  {
   "cell_type": "code",
   "execution_count": 47,
   "metadata": {},
   "outputs": [
    {
     "data": {
      "text/plain": [
       "30139"
      ]
     },
     "execution_count": 47,
     "metadata": {},
     "output_type": "execute_result"
    }
   ],
   "source": [
    "len(intersect_qld)"
   ]
  },
  {
   "cell_type": "code",
   "execution_count": 48,
   "metadata": {},
   "outputs": [],
   "source": [
    "# save output to pickle to avoid re-creating dataset each time\n",
    "with open('P:/projects/SpecialistProjects/farmdams/geo_results/intersect_qld.pickle', 'wb') as handle:\n",
    "        pickle.dump(intersect_qld, handle, protocol=pickle.HIGHEST_PROTOCOL)"
   ]
  },
  {
   "cell_type": "code",
   "execution_count": 49,
   "metadata": {},
   "outputs": [],
   "source": [
    "# load pickle\n",
    "intersect_qld = pickle.load(open('P:/projects/SpecialistProjects/farmdams/geo_results/intersect_qld.pickle', 'rb'))"
   ]
  },
  {
   "cell_type": "code",
   "execution_count": 50,
   "metadata": {},
   "outputs": [],
   "source": [
    "# save dams and water bodies intersection to shapefile\n",
    "intersect_qld.to_file('P:/projects/SpecialistProjects/farmdams/geo_results/intersect_qld.shp')\n",
    "dams_qld.to_file('P:/projects/SpecialistProjects/farmdams/geo_results/dams_qld.shp')"
   ]
  },
  {
   "cell_type": "code",
   "execution_count": null,
   "metadata": {},
   "outputs": [],
   "source": []
  }
 ],
 "metadata": {
  "kernelspec": {
   "display_name": "Python 3",
   "language": "python",
   "name": "python3"
  },
  "language_info": {
   "codemirror_mode": {
    "name": "ipython",
    "version": 3
   },
   "file_extension": ".py",
   "mimetype": "text/x-python",
   "name": "python",
   "nbconvert_exporter": "python",
   "pygments_lexer": "ipython3",
   "version": "3.6.9"
  }
 },
 "nbformat": 4,
 "nbformat_minor": 4
}
